{
 "cells": [
  {
   "cell_type": "code",
   "execution_count": null,
   "metadata": {},
   "outputs": [
    {
     "name": "stdout",
     "output_type": "stream",
     "text": [
      "Зашифрованное сообщение: 7562e6a1bf9aaae72a465fbc718a22f9162cb858350bf4e27847d045d40239426d24f47fd04fdbcc9cc8a3039ba18cda\n",
      "Расшифрованное сообщение: Го в доту завтра в 22:00\n"
     ]
    }
   ],
   "source": [
    "# Zadanie 2\n",
    "import os\n",
    "from cryptography.hazmat.primitives.ciphers import Cipher, algorithms, modes\n",
    "from cryptography.hazmat.backends import default_backend\n",
    "from cryptography.hazmat.primitives import padding\n",
    "\n",
    "def aes_encrypt(key, data):\n",
    "    cipher = Cipher(algorithms.AES(key), modes.ECB(), backend=default_backend())\n",
    "    encryptor = cipher.encryptor()\n",
    "    padder = padding.PKCS7(algorithms.AES.block_size).padder()\n",
    "    padded_data = padder.update(data.encode()) + padder.finalize()\n",
    "    return encryptor.update(padded_data) + encryptor.finalize()\n",
    "\n",
    "def aes_decrypt(key, data):\n",
    "    cipher = Cipher(algorithms.AES(key), modes.ECB(), backend=default_backend())\n",
    "    decryptor = cipher.decryptor()\n",
    "    decrypted_padded = decryptor.update(data) + decryptor.finalize()\n",
    "    unpadder = padding.PKCS7(algorithms.AES.block_size).unpadder()\n",
    "    return unpadder.update(decrypted_padded) + unpadder.finalize()\n",
    "\n",
    "key = os.urandom(16)\n",
    "message = \"Го в доту завтра в 22:00\"\n",
    "encrypted_message = aes_encrypt(key, message)\n",
    "print(\"Зашифрованное сообщение:\", encrypted_message.hex())\n",
    "decrypted_message = aes_decrypt(key, encrypted_message).decode()\n",
    "print(\"Расшифрованное сообщение:\", decrypted_message)"
   ]
  },
  {
   "cell_type": "code",
   "execution_count": null,
   "metadata": {},
   "outputs": [
    {
     "name": "stdout",
     "output_type": "stream",
     "text": [
      "b'This is very secret message for '\n"
     ]
    }
   ],
   "source": [
    "# Zadanie 4\n",
    "encrypter_message= b'\\x08r\\x9b*\\xeee\\x96a\\xafdY\\x05F\\t:\\x95:I.\\xabU\\xa6S\\x8a\\xbaw\\xf8V\\x16sa\\xbe'\n",
    "super_secret_key = 1234654\n",
    "key = super_secret_key.to_bytes(16, 'big')\n",
    "\n",
    "aesCipher = Cipher(algorithms.AES(key), modes.ECB(), \n",
    "backend=default_backend()) \n",
    "aesEncryptor = aesCipher.encryptor() \n",
    "aesDecryptor = aesCipher.decryptor()\n",
    "\n",
    "print(aesDecryptor.update(encrypter_message))\n",
    "\n"
   ]
  },
  {
   "cell_type": "code",
   "execution_count": 73,
   "metadata": {},
   "outputs": [
    {
     "name": "stdout",
     "output_type": "stream",
     "text": [
      "b'\\xb8H j\\xe9\\x9fC{\\x16\\x1f\\x89\\xe8*\\xcc\\x9a\\x92'\n"
     ]
    }
   ],
   "source": [
    "Kod1=b'Der Tod Und die Landsknechte'\n",
    "polk=aesEncryptor.update(Kod1) \n",
    "print(polk)"
   ]
  },
  {
   "cell_type": "code",
   "execution_count": 74,
   "metadata": {},
   "outputs": [
    {
     "name": "stdout",
     "output_type": "stream",
     "text": [
      "b'Der Tod Und die '\n"
     ]
    }
   ],
   "source": [
    "k=b'\\xb8H j\\xe9\\x9fC{\\x16\\x1f\\x89\\xe8*\\xcc\\x9a\\x92'\n",
    "print(aesDecryptor.update(k))"
   ]
  },
  {
   "cell_type": "code",
   "execution_count": 79,
   "metadata": {},
   "outputs": [
    {
     "name": "stdout",
     "output_type": "stream",
     "text": [
      "b'Der Tod Und die '\n"
     ]
    }
   ],
   "source": [
    "encrypter_message= b'\\xb8H j\\xe9\\x9fC{\\x16\\x1f\\x89\\xe8*\\xcc\\x9a\\x92'\n",
    "secret_key = 123456789012345\n",
    "key = secret_key.to_bytes(16, 'big')\n",
    "\n",
    "aesCipher = Cipher(algorithms.AES(key), modes.ECB(), \n",
    "backend=default_backend()) \n",
    "aesEncryptor = aesCipher.encryptor() \n",
    "aesDecryptor = aesCipher.decryptor()\n",
    "\n",
    "print(aesDecryptor.update(encrypter_message))\n"
   ]
  },
  {
   "cell_type": "code",
   "execution_count": null,
   "metadata": {},
   "outputs": [],
   "source": [
    "#Zadanie 3\n"
   ]
  },
  {
   "cell_type": "code",
   "execution_count": 1,
   "metadata": {},
   "outputs": [
    {
     "name": "stdout",
     "output_type": "stream",
     "text": [
      "Requirement already satisfied: cryptography in c:\\users\\home\\anaconda3\\lib\\site-packages (42.0.5)\n",
      "Requirement already satisfied: cffi>=1.12 in c:\\users\\home\\anaconda3\\lib\\site-packages (from cryptography) (1.16.0)\n",
      "Requirement already satisfied: pycparser in c:\\users\\home\\anaconda3\\lib\\site-packages (from cffi>=1.12->cryptography) (2.21)\n",
      "Note: you may need to restart the kernel to use updated packages.\n"
     ]
    }
   ],
   "source": [
    "%pip install cryptography"
   ]
  },
  {
   "cell_type": "code",
   "execution_count": 2,
   "metadata": {},
   "outputs": [],
   "source": [
    "import os\n",
    "from cryptography.hazmat.primitives.ciphers import Cipher, algorithms, modes\n",
    "from cryptography.hazmat.backends import default_backend\n",
    "from cryptography.hazmat.primitives import padding\n",
    "from os import urandom"
   ]
  },
  {
   "cell_type": "code",
   "execution_count": 3,
   "metadata": {},
   "outputs": [
    {
     "name": "stdout",
     "output_type": "stream",
     "text": [
      "Зашифрованное сообщение 1: 2a2bb0110dfd99b21bdf26b99433a88389103a3ad9dad0c14c7b235bee0503eee31dbdc8de5aeeaba4eace47a6e2e03553f433358babb5907a3e441f90470b9a\n",
      "Зашифрованное сообщение 2: 2a2bb0110dfd99b21bdf26b99433a88389103a3ad9dad0c14c7b235bee0503ee5ceb3ff4a8de4549cd9546f65b1a5bed7864fe28a8568207991b2cf139bbea60\n",
      "Расшифрованное изменённое сообщение 2: Встреча Боба и Алисы 25 марта в кафе\n"
     ]
    }
   ],
   "source": [
    "key = b'\\x01' * 16  \n",
    "\n",
    "message1 = \"Встреча Боба и Алисы 18 марта в кафе\"\n",
    "cipher1 = Cipher(algorithms.AES(key), modes.ECB(), backend=default_backend())\n",
    "encryptor1 = cipher1.encryptor()\n",
    "padder1 = padding.PKCS7(128).padder()\n",
    "padded_data1 = padder1.update(message1.encode()) + padder1.finalize()\n",
    "encrypted1 = encryptor1.update(padded_data1) + encryptor1.finalize()\n",
    "print(f\"Зашифрованное сообщение 1: {encrypted1.hex()}\")\n",
    "\n",
    "message2 = \"Встреча Боба и Алисы 25 марта в кино\"\n",
    "cipher2 = Cipher(algorithms.AES(key), modes.ECB(), backend=default_backend())\n",
    "encryptor2 = cipher2.encryptor()\n",
    "padder2 = padding.PKCS7(128).padder()\n",
    "padded_data2 = padder2.update(message2.encode()) + padder2.finalize()\n",
    "encrypted2 = encryptor2.update(padded_data2) + encryptor2.finalize()\n",
    "print(f\"Зашифрованное сообщение 2: {encrypted2.hex()}\")\n",
    "\n",
    "modified_encrypted2 = encrypted2[:-16] + encrypted1[-16:]\n",
    "\n",
    "decryptor = Cipher(algorithms.AES(key), modes.ECB(), backend=default_backend()).decryptor()\n",
    "decrypted_padded = decryptor.update(modified_encrypted2) + decryptor.finalize()\n",
    "unpadder = padding.PKCS7(128).unpadder()\n",
    "decrypted = unpadder.update(decrypted_padded) + unpadder.finalize()\n",
    "print(f\"Расшифрованное изменённое сообщение 2: {decrypted.decode()}\")"
   ]
  }
 ],
 "metadata": {
  "kernelspec": {
   "display_name": "base",
   "language": "python",
   "name": "python3"
  },
  "language_info": {
   "codemirror_mode": {
    "name": "ipython",
    "version": 3
   },
   "file_extension": ".py",
   "mimetype": "text/x-python",
   "name": "python",
   "nbconvert_exporter": "python",
   "pygments_lexer": "ipython3",
   "version": "3.12.4"
  }
 },
 "nbformat": 4,
 "nbformat_minor": 2
}
