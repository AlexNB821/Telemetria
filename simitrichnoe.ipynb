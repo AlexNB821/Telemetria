{
 "cells": [
  {
   "cell_type": "code",
   "execution_count": 10,
   "metadata": {},
   "outputs": [
    {
     "name": "stdout",
     "output_type": "stream",
     "text": [
      "Зашифрованное сообщение: 7562e6a1bf9aaae72a465fbc718a22f9162cb858350bf4e27847d045d40239426d24f47fd04fdbcc9cc8a3039ba18cda\n",
      "Расшифрованное сообщение: Го в доту завтра в 22:00\n"
     ]
    }
   ],
   "source": [
    "# Zadanie 2\n",
    "import os\n",
    "from cryptography.hazmat.primitives.ciphers import Cipher, algorithms, modes\n",
    "from cryptography.hazmat.backends import default_backend\n",
    "from cryptography.hazmat.primitives import padding\n",
    "\n",
    "def aes_encrypt(key, data):\n",
    "    cipher = Cipher(algorithms.AES(key), modes.ECB(), backend=default_backend())\n",
    "    encryptor = cipher.encryptor()\n",
    "    padder = padding.PKCS7(algorithms.AES.block_size).padder()\n",
    "    padded_data = padder.update(data.encode()) + padder.finalize()\n",
    "    return encryptor.update(padded_data) + encryptor.finalize()\n",
    "\n",
    "def aes_decrypt(key, data):\n",
    "    cipher = Cipher(algorithms.AES(key), modes.ECB(), backend=default_backend())\n",
    "    decryptor = cipher.decryptor()\n",
    "    decrypted_padded = decryptor.update(data) + decryptor.finalize()\n",
    "    unpadder = padding.PKCS7(algorithms.AES.block_size).unpadder()\n",
    "    return unpadder.update(decrypted_padded) + unpadder.finalize()\n",
    "\n",
    "key = os.urandom(16)\n",
    "message = \"Го в доту завтра в 22:00\"\n",
    "encrypted_message = aes_encrypt(key, message)\n",
    "print(\"Зашифрованное сообщение:\", encrypted_message.hex())\n",
    "decrypted_message = aes_decrypt(key, encrypted_message).decode()\n",
    "print(\"Расшифрованное сообщение:\", decrypted_message)"
   ]
  },
  {
   "cell_type": "code",
   "execution_count": 31,
   "metadata": {},
   "outputs": [
    {
     "name": "stdout",
     "output_type": "stream",
     "text": [
      "b'This is very secret message for '\n"
     ]
    }
   ],
   "source": [
    "# Zadanie 4\n",
    "encrypter_message= b'\\x08r\\x9b*\\xeee\\x96a\\xafdY\\x05F\\t:\\x95:I.\\xabU\\xa6S\\x8a\\xbaw\\xf8V\\x16sa\\xbe'\n",
    "super_secret_key = 1234654\n",
    "key = super_secret_key.to_bytes(16, 'big')\n",
    "\n",
    "aesCipher = Cipher(algorithms.AES(key), modes.ECB(), \n",
    "backend=default_backend()) \n",
    "aesEncryptor = aesCipher.encryptor() \n",
    "aesDecryptor = aesCipher.decryptor()\n",
    "\n",
    "print(aesDecryptor.update(encrypter_message))\n",
    "\n"
   ]
  },
  {
   "cell_type": "code",
   "execution_count": 73,
   "metadata": {},
   "outputs": [
    {
     "name": "stdout",
     "output_type": "stream",
     "text": [
      "b'\\xb8H j\\xe9\\x9fC{\\x16\\x1f\\x89\\xe8*\\xcc\\x9a\\x92'\n"
     ]
    }
   ],
   "source": [
    "Kod1=b'Der Tod Und die Landsknechte'\n",
    "polk=aesEncryptor.update(Kod1) \n",
    "print(polk)"
   ]
  },
  {
   "cell_type": "code",
   "execution_count": 74,
   "metadata": {},
   "outputs": [
    {
     "name": "stdout",
     "output_type": "stream",
     "text": [
      "b'Der Tod Und die '\n"
     ]
    }
   ],
   "source": [
    "k=b'\\xb8H j\\xe9\\x9fC{\\x16\\x1f\\x89\\xe8*\\xcc\\x9a\\x92'\n",
    "print(aesDecryptor.update(k))"
   ]
  },
  {
   "cell_type": "code",
   "execution_count": 79,
   "metadata": {},
   "outputs": [
    {
     "name": "stdout",
     "output_type": "stream",
     "text": [
      "b'Der Tod Und die '\n"
     ]
    }
   ],
   "source": [
    "encrypter_message= b'\\xb8H j\\xe9\\x9fC{\\x16\\x1f\\x89\\xe8*\\xcc\\x9a\\x92'\n",
    "secret_key = 123456789012345\n",
    "key = secret_key.to_bytes(16, 'big')\n",
    "\n",
    "aesCipher = Cipher(algorithms.AES(key), modes.ECB(), \n",
    "backend=default_backend()) \n",
    "aesEncryptor = aesCipher.encryptor() \n",
    "aesDecryptor = aesCipher.decryptor()\n",
    "\n",
    "print(aesDecryptor.update(encrypter_message))\n"
   ]
  }
 ],
 "metadata": {
  "kernelspec": {
   "display_name": "base",
   "language": "python",
   "name": "python3"
  },
  "language_info": {
   "codemirror_mode": {
    "name": "ipython",
    "version": 3
   },
   "file_extension": ".py",
   "mimetype": "text/x-python",
   "name": "python",
   "nbconvert_exporter": "python",
   "pygments_lexer": "ipython3",
   "version": "3.12.4"
  }
 },
 "nbformat": 4,
 "nbformat_minor": 2
}
